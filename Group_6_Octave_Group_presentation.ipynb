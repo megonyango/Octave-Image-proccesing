{
  "nbformat": 4,
  "nbformat_minor": 5,
  "metadata": {
    "kernelspec": {
      "display_name": "Octave",
      "language": "octave",
      "name": "octave"
    },
    "language_info": {
      "file_extension": ".m",
      "help_links": [
        {
          "text": "GNU Octave",
          "url": "https://www.gnu.org/software/octave/support.html"
        },
        {
          "text": "Octave Kernel",
          "url": "https://github.com/Calysto/octave_kernel"
        },
        {
          "text": "MetaKernel Magics",
          "url": "https://metakernel.readthedocs.io/en/latest/source/README.html"
        }
      ],
      "mimetype": "text/x-octave",
      "name": "octave",
      "version": "6.2.0"
    },
    "colab": {
      "name": "Group 6 - Octave Group presentation.ipynb",
      "provenance": [],
      "collapsed_sections": [],
      "include_colab_link": true
    }
  },
  "cells": [
    {
      "cell_type": "markdown",
      "metadata": {
        "id": "view-in-github",
        "colab_type": "text"
      },
      "source": [
        "<a href=\"https://colab.research.google.com/github/megonyango/Octave-Image-proccesing/blob/main/Group_6_Octave_Group_presentation.ipynb\" target=\"_parent\"><img src=\"https://colab.research.google.com/assets/colab-badge.svg\" alt=\"Open In Colab\"/></a>"
      ]
    },
    {
      "cell_type": "markdown",
      "metadata": {
        "id": "social-humidity"
      },
      "source": [
        "# Octave Programming language"
      ],
      "id": "social-humidity"
    },
    {
      "cell_type": "markdown",
      "metadata": {
        "id": "decimal-judges"
      },
      "source": [
        "# Introduction\n",
        "\n",
        "Octave is a high level interpreted language that is mainly used in numerical computation/ analysis.\n",
        "\n",
        "Mainly used as a prototyping tool to find solutions that will be implemented in other languages.\n",
        "\n",
        "Octave has a terminal like interface so terminal commands apply.\n",
        "\n",
        "Installation - Google Octave - http://www.gnu.org/software/octave\n",
        "\n",
        "Further information on octave can be found in the octave wiki and documentation - https://wiki.octave.org/GNU_Octave_Wiki\n"
      ],
      "id": "decimal-judges"
    },
    {
      "cell_type": "markdown",
      "metadata": {
        "id": "significant-secretary"
      },
      "source": [
        "# Basic Operations\n",
        "\n",
        "Examples: \n",
        "\n",
        "1. Addition -> + or .+ ie element wise operations\n",
        "\n",
        "2. Subtraction -> - or .-\n",
        "\n",
        "3. Multiplication - * or .*\n",
        "\n",
        "4. Division a/b or a\\b or ./\n",
        "\n",
        "5. Exponent - ^\n",
        "\n",
        "- Additional mathematical functions for example ceil(x), floor(x), round(x), max(x), min(x)\n",
        "\n",
        "- Octave also has named constants eg pi\n",
        "\n",
        "- Octave allows variables. Use assignment operations to assign values to variables.\n",
        "\n",
        "- Data types : float, integers, Strings( double quotation marks)\n"
      ],
      "id": "significant-secretary"
    },
    {
      "cell_type": "code",
      "metadata": {
        "id": "economic-aggregate",
        "outputId": "4f6e73cb-099c-4132-e9cf-24236bb40639"
      },
      "source": [
        "# Basic Operations examples.\n",
        "x = 1400\n",
        "y = 2000\n",
        "\n",
        "disp(\"\\n Addition \\n\")\n",
        "z = x + y\n",
        "\n",
        "\n",
        "disp(\"\\n Subraction \\n\")\n",
        "a = y - x\n",
        "\n",
        "\n",
        "disp(\"\\n Multiplication\\n\")\n",
        "b = x * y\n",
        "\n",
        "\n",
        "disp(\"\\n Division\\n\")\n",
        "c = x \\ y\n",
        "\n",
        "\n",
        "disp(\"\\n Exponent\\n\")\n",
        "d = x ^ 3"
      ],
      "id": "economic-aggregate",
      "execution_count": null,
      "outputs": [
        {
          "output_type": "stream",
          "text": [
            "x = 1400\n",
            "y = 2000\n",
            "\n",
            " Addition \n",
            "\n",
            "z = 3400\n",
            "\n",
            " Subraction \n",
            "\n",
            "a = 600\n",
            "\n",
            " Multiplication\n",
            "\n",
            "b = 2800000\n",
            "\n",
            " Division\n",
            "\n",
            "c = 1.4286\n",
            "\n",
            " Exponent\n",
            "\n",
            "d = 2.7440e+09\n"
          ],
          "name": "stdout"
        }
      ]
    },
    {
      "cell_type": "markdown",
      "metadata": {
        "id": "female-malpractice"
      },
      "source": [
        "# Vectors and Matrices\n",
        "\n",
        "Row vector - Example\n",
        "\n",
        "a = [2 3 4] or a = [2, 3, 4]\n",
        "\n",
        "Column vector - Example\n",
        "\n",
        "b = [6; 7; 8]\n",
        "\n",
        "\n",
        "Element by element operations allowed in octave using .(+, -, /, )"
      ],
      "id": "female-malpractice"
    },
    {
      "cell_type": "code",
      "metadata": {
        "id": "provincial-cornell",
        "outputId": "3dbd91b3-5c15-4518-f85d-0ce09c94f38a"
      },
      "source": [
        "x = randn(3,3)\n",
        "y = randn(3,3)\n",
        "\n",
        "\n",
        "# dot product of matrix x and y\n",
        "z = x .* y"
      ],
      "id": "provincial-cornell",
      "execution_count": null,
      "outputs": [
        {
          "output_type": "stream",
          "text": [
            "x =\n",
            "\n",
            "  -1.3281  -1.7707  -1.1095\n",
            "   0.5609  -1.4748   0.9867\n",
            "  -0.9537   0.1805   0.7253\n",
            "\n",
            "y =\n",
            "\n",
            "  -0.4243   1.3222   1.1144\n",
            "   0.2136   0.5644  -1.9338\n",
            "   1.4008  -1.5767   0.5898\n",
            "\n",
            "z =\n",
            "\n",
            "   0.5635  -2.3412  -1.2364\n",
            "   0.1198  -0.8325  -1.9080\n",
            "  -1.3360  -0.2846   0.4278\n",
            "\n"
          ],
          "name": "stdout"
        }
      ]
    },
    {
      "cell_type": "markdown",
      "metadata": {
        "id": "human-crowd"
      },
      "source": [
        "# Special matrices \n",
        "\n",
        "1. ones(n, m) - n by m of all ones\n",
        "2. zeros(n, m) - n by m of all zeros\n",
        "3. eye(n) or eye(n,m) - identity matrix\n",
        "4. rand(n, m) - n by m matrix of uniformly random elements between 0 and 1\n",
        "5. randn(n, m) - n by m matrix of normally distributed random elements with a standard deviation of 1"
      ],
      "id": "human-crowd"
    },
    {
      "cell_type": "code",
      "metadata": {
        "id": "furnished-dining",
        "outputId": "125a5a9c-2904-486d-fbb9-f54ef32161dc"
      },
      "source": [
        "# Examples\n",
        "\n",
        "disp(\"\\n Ones Matrix \\n\")\n",
        "ones(6,7)\n",
        "\n",
        "disp(\"\\n Zeros Matrix \\n\")\n",
        "zeros(10,13)\n",
        "\n",
        "disp(\"\\n Identity Matrix \\n\")\n",
        "eye(5)\n",
        "\n",
        "disp(\"\\n Rand Matrix \\n\")\n",
        "rand(9,1)\n",
        "\n",
        "disp(\"\\n Randn Matrix \\n\")\n",
        "randn(6,2)\n"
      ],
      "id": "furnished-dining",
      "execution_count": null,
      "outputs": [
        {
          "output_type": "stream",
          "text": [
            "\n",
            " Ones Matrix \n",
            "\n",
            "ans =\n",
            "\n",
            "   1   1   1   1   1   1   1\n",
            "   1   1   1   1   1   1   1\n",
            "   1   1   1   1   1   1   1\n",
            "   1   1   1   1   1   1   1\n",
            "   1   1   1   1   1   1   1\n",
            "   1   1   1   1   1   1   1\n",
            "\n",
            "\n",
            " Zeros Matrix \n",
            "\n",
            "ans =\n",
            "\n",
            "   0   0   0   0   0   0   0   0   0   0   0   0   0\n",
            "   0   0   0   0   0   0   0   0   0   0   0   0   0\n",
            "   0   0   0   0   0   0   0   0   0   0   0   0   0\n",
            "   0   0   0   0   0   0   0   0   0   0   0   0   0\n",
            "   0   0   0   0   0   0   0   0   0   0   0   0   0\n",
            "   0   0   0   0   0   0   0   0   0   0   0   0   0\n",
            "   0   0   0   0   0   0   0   0   0   0   0   0   0\n",
            "   0   0   0   0   0   0   0   0   0   0   0   0   0\n",
            "   0   0   0   0   0   0   0   0   0   0   0   0   0\n",
            "   0   0   0   0   0   0   0   0   0   0   0   0   0\n",
            "\n",
            "\n",
            " Identity Matrix \n",
            "\n",
            "ans =\n",
            "\n",
            "Diagonal Matrix\n",
            "\n",
            "   1   0   0   0   0\n",
            "   0   1   0   0   0\n",
            "   0   0   1   0   0\n",
            "   0   0   0   1   0\n",
            "   0   0   0   0   1\n",
            "\n",
            "\n",
            " Rand Matrix \n",
            "\n",
            "ans =\n",
            "\n",
            "   0.060738\n",
            "   0.442716\n",
            "   0.392927\n",
            "   0.960819\n",
            "   0.616106\n",
            "   0.411951\n",
            "   0.686364\n",
            "   0.695601\n",
            "   0.447354\n",
            "\n",
            "\n",
            " Randn Matrix \n",
            "\n",
            "ans =\n",
            "\n",
            "  -1.332104   1.289129\n",
            "  -0.840694   0.939307\n",
            "   0.278845   1.266798\n",
            "  -0.063068   0.012154\n",
            "   0.144764  -1.249574\n",
            "  -1.095816  -1.676515\n",
            "\n"
          ],
          "name": "stdout"
        }
      ]
    },
    {
      "cell_type": "markdown",
      "metadata": {
        "id": "pediatric-examination"
      },
      "source": [
        "# Simple Matrix operations"
      ],
      "id": "pediatric-examination"
    },
    {
      "cell_type": "markdown",
      "metadata": {
        "id": "essential-evanescence"
      },
      "source": [
        "# Range \n",
        "\n",
        "- Denoted by a colon\n",
        "\n",
        "- Syntax - x = start:stop or x = start:step:stop\n"
      ],
      "id": "essential-evanescence"
    },
    {
      "cell_type": "code",
      "metadata": {
        "id": "aerial-emerald",
        "outputId": "b9e45fc8-24a2-4e30-edf8-51c779e5b363"
      },
      "source": [
        "# Example of using range to create a row vector\n",
        "disp(\"\\n Range - Start and Stop \\n\")\n",
        "p = 1:6\n",
        "\n",
        "disp(\"\\n Range - Start Step and Stop \\n\")\n",
        "t = 2:2:10"
      ],
      "id": "aerial-emerald",
      "execution_count": null,
      "outputs": [
        {
          "output_type": "stream",
          "text": [
            "\n",
            " Range - Start and Stop \n",
            "\n",
            "p =\n",
            "\n",
            "   1   2   3   4   5   6\n",
            "\n",
            "\n",
            " Range - Start Step and Stop \n",
            "\n",
            "t =\n",
            "\n",
            "    2    4    6    8   10\n",
            "\n"
          ],
          "name": "stdout"
        }
      ]
    },
    {
      "cell_type": "markdown",
      "metadata": {
        "id": "eastern-volleyball"
      },
      "source": [
        "# Indexing into a matrix\n",
        "\n",
        "- Indicate the position of elements you want to extract"
      ],
      "id": "eastern-volleyball"
    },
    {
      "cell_type": "code",
      "metadata": {
        "id": "legislative-ethnic",
        "outputId": "20285a37-8fa5-4052-be02-b07b88eb67b3"
      },
      "source": [
        "x = randn(5,5)\n",
        "\n",
        "x(1, :) # all in first row\n",
        "\n",
        "x(2, [1:3]) # second row, columns 1 and 2"
      ],
      "id": "legislative-ethnic",
      "execution_count": null,
      "outputs": [
        {
          "output_type": "stream",
          "text": [
            "x =\n",
            "\n",
            "  -0.516275   0.918433  -1.379257  -0.819237  -1.096646\n",
            "   0.886785  -0.083237   0.669165  -0.696172  -1.957135\n",
            "   0.057169   1.671746  -0.423018  -0.038120  -0.453946\n",
            "   0.459528  -0.048713   0.213064  -0.286407   1.018919\n",
            "  -1.445689  -0.604282  -0.581853  -0.572372  -1.104557\n",
            "\n",
            "ans =\n",
            "\n",
            "  -0.5163   0.9184  -1.3793  -0.8192  -1.0966\n",
            "\n",
            "ans =\n",
            "\n",
            "   0.886785  -0.083237   0.669165\n",
            "\n"
          ],
          "name": "stdout"
        }
      ]
    },
    {
      "cell_type": "markdown",
      "metadata": {
        "id": "intellectual-significance"
      },
      "source": [
        "# Matrix concatenation\n",
        "\n",
        "- Joining 2 or more matrices"
      ],
      "id": "intellectual-significance"
    },
    {
      "cell_type": "code",
      "metadata": {
        "id": "incredible-literature",
        "outputId": "e3d14c4b-d7c3-48fb-9335-316d10377328"
      },
      "source": [
        "x = rand(2,3)\n",
        "y = rand(2,3)\n",
        "\n",
        "z = [x y]\n",
        "\n",
        "j = [x;y]"
      ],
      "id": "incredible-literature",
      "execution_count": null,
      "outputs": [
        {
          "output_type": "stream",
          "text": [
            "x =\n",
            "\n",
            "   0.043252   0.712346   0.097855\n",
            "   0.120021   0.269215   0.349554\n",
            "\n",
            "y =\n",
            "\n",
            "   0.189223   0.089068   0.422279\n",
            "   0.260386   0.248841   0.419092\n",
            "\n",
            "z =\n",
            "\n",
            "   0.043252   0.712346   0.097855   0.189223   0.089068   0.422279\n",
            "   0.120021   0.269215   0.349554   0.260386   0.248841   0.419092\n",
            "\n",
            "j =\n",
            "\n",
            "   0.043252   0.712346   0.097855\n",
            "   0.120021   0.269215   0.349554\n",
            "   0.189223   0.089068   0.422279\n",
            "   0.260386   0.248841   0.419092\n",
            "\n"
          ],
          "name": "stdout"
        }
      ]
    },
    {
      "cell_type": "markdown",
      "metadata": {
        "id": "protective-conditions"
      },
      "source": [
        "# Matrix size and length\n",
        "- size - outputs the size of the matrix\n",
        "- length - outputs the size of the longest dimension"
      ],
      "id": "protective-conditions"
    },
    {
      "cell_type": "code",
      "metadata": {
        "id": "demonstrated-oklahoma",
        "outputId": "cc66b651-e538-4129-f2c4-9749df9f7e4d"
      },
      "source": [
        "size(j)\n",
        "length(j)"
      ],
      "id": "demonstrated-oklahoma",
      "execution_count": null,
      "outputs": [
        {
          "output_type": "stream",
          "text": [
            "ans =\n",
            "\n",
            "   4   3\n",
            "\n",
            "ans = 4\n"
          ],
          "name": "stdout"
        }
      ]
    },
    {
      "cell_type": "markdown",
      "metadata": {
        "id": "allied-commitment"
      },
      "source": [
        "# Loading and saving data in octave\n",
        "\n",
        "\n",
        "# Loading Data\n",
        "- to load data ensure you are in the same directory as file. - using octave terminal\n",
        "\n",
        "\n",
        "Option 1: load variable containing the data\n",
        "\n",
        "- load \\<file name> \\<variable containing data>\n",
        "\n",
        "\n",
        "Option 2: load to a variable \n",
        "\n",
        "- x = load(\"file name\")\n",
        "\n",
        "\n",
        "# Saving Data.\n",
        "\n",
        "To save data use the syntax shown below. \n",
        "- save \\<file name> \\<variable>\n",
        "\n",
        "- When saving a file the programmer has to specify the variables to be saved otherwise octave saves all user created variables in the session.\n",
        "\n",
        "\n",
        "\n",
        "\n",
        "# Temporary file in octave.\n",
        "\n",
        "- Temporary files are useful when dealing with large amounts of data or when other programs are using data from octave. \n",
        "- Temporary files are deleted when octave is closed\n",
        "\n",
        "Syntax for creating a temp file \n",
        "- f = tmpfile\n",
        "- save f \\<variable name>\n",
        "- load f \\<variable name>"
      ],
      "id": "allied-commitment"
    },
    {
      "cell_type": "markdown",
      "metadata": {
        "id": "activated-region"
      },
      "source": [
        "# Plotting Data\n",
        "\n",
        "Octave supports different types of plots eg \n",
        "x-y plots\n",
        "1. scatter plots\n",
        "2. contour plots\n",
        "3. histograms\n",
        "4. contour plots\n",
        "5. polar plots\n",
        "6. pie charts\n",
        "7. 3D Mesh plots"
      ],
      "id": "activated-region"
    },
    {
      "cell_type": "markdown",
      "metadata": {
        "id": "auburn-namibia"
      },
      "source": [
        "# 1. x - y Plots\n",
        "\n",
        "- Most common kind of plots. \n",
        "- Plot vector y in relation to vector x\n",
        "- x - y plots can be modified by changing the attribute variables. eg \n",
        "- linestyle('-', '--', ':', '-.'), markerstyle('+', 'o', '*', '.', 'x', 's', 'd'), color('k', 'r', 'g', 'b', 'm', 'c', 'w')\n",
        "\n",
        "Examples of x-y plots\n",
        "\n",
        "- plot(y) - plots y aganist its index\n",
        "- plot(x,y)"
      ],
      "id": "auburn-namibia"
    },
    {
      "cell_type": "code",
      "metadata": {
        "id": "contrary-dictionary"
      },
      "source": [
        "graphics_toolkit(\"gnuplot\")"
      ],
      "id": "contrary-dictionary",
      "execution_count": null,
      "outputs": []
    },
    {
      "cell_type": "code",
      "metadata": {
        "id": "parental-pursuit",
        "outputId": "b726a5b6-0acb-4647-8bc5-1721808ebfc5"
      },
      "source": [
        "%%gnuplot inline\n",
        "\n",
        "# This loads the magics for gnuplot\n",
        "%load_ext gnuplot_kernel\n",
        "x = 0:10\n",
        "y = 0:10\n",
        "\n",
        "plot(x,y)\n",
        "title(\"Simple X,Y plot\")"
      ],
      "id": "parental-pursuit",
      "execution_count": null,
      "outputs": [
        {
          "output_type": "stream",
          "text": [
            "x =\n",
            "\n",
            "    0    1    2    3    4    5    6    7    8    9   10\n",
            "\n",
            "y =\n",
            "\n",
            "    0    1    2    3    4    5    6    7    8    9   10\n",
            "\n"
          ],
          "name": "stdout"
        },
        {
          "output_type": "display_data",
          "data": {
            "image/png": "[encoded data removed]",
            "text/plain": [
              "<IPython.core.display.Image object>"
            ]
          },
          "metadata": {
            "tags": []
          }
        }
      ]
    },
    {
      "cell_type": "markdown",
      "metadata": {
        "id": "vulnerable-bouquet"
      },
      "source": [
        "# 2. Scatter Plots.\n",
        "\n",
        "- outputs the points without the line\n",
        "- scatter(x,y)\n",
        "- Format of the plot points can be modified eg change marker size, filled point marker etc\n"
      ],
      "id": "vulnerable-bouquet"
    },
    {
      "cell_type": "code",
      "metadata": {
        "id": "qualified-hurricane",
        "outputId": "5fc8b865-ac9a-4ebd-f850-bd9b229c41e6"
      },
      "source": [
        "scatter(x,y)"
      ],
      "id": "qualified-hurricane",
      "execution_count": null,
      "outputs": [
        {
          "output_type": "display_data",
          "data": {
            "image/png": "[encoded data removed]",
            "text/plain": [
              "<IPython.core.display.Image object>"
            ]
          },
          "metadata": {
            "tags": []
          }
        }
      ]
    },
    {
      "cell_type": "markdown",
      "metadata": {
        "id": "final-communist"
      },
      "source": [
        "# 3. Histograms\n",
        "\n",
        "- used to demonstrate the distribution of data.\n",
        "- Syntax: hist(x)\n",
        "- Example of modifications: to alter the number of bins use hist(x, nbins)\n"
      ],
      "id": "final-communist"
    },
    {
      "cell_type": "code",
      "metadata": {
        "id": "supposed-pizza",
        "outputId": "c81d674c-efc2-4758-a797-aa01a623c96b"
      },
      "source": [
        "p = randn(15,1)\n",
        "\n",
        "hist(p)\n"
      ],
      "id": "supposed-pizza",
      "execution_count": null,
      "outputs": [
        {
          "output_type": "stream",
          "text": [
            "p =\r\n",
            "\r\n",
            "  -0.102480\r\n",
            "   1.448230\r\n",
            "   1.070859\r\n",
            "  -1.808483\r\n",
            "  -1.098079\r\n",
            "   0.074151\r\n",
            "   0.751442\r\n",
            "   3.016789\r\n",
            "   0.709200\r\n",
            "  -1.151907\r\n",
            "   0.770305\r\n",
            "  -0.257069\r\n",
            "  -0.889260\r\n",
            "  -2.068564\r\n",
            "  -1.115350\r\n",
            "\r\n"
          ],
          "name": "stdout"
        },
        {
          "output_type": "display_data",
          "data": {
            "image/png": "[encoded data removed]",
            "text/plain": [
              "<IPython.core.display.Image object>"
            ]
          },
          "metadata": {
            "tags": []
          }
        }
      ]
    },
    {
      "cell_type": "markdown",
      "metadata": {
        "id": "developmental-percentage"
      },
      "source": [
        "# 4. Contour plots.\n",
        "\n",
        "- Displays a 3D plot on a 2D plane.\n",
        "- Syntax: contour(z) or contour(x,y,z)"
      ],
      "id": "developmental-percentage"
    },
    {
      "cell_type": "code",
      "metadata": {
        "id": "alert-static",
        "outputId": "09df0988-dd5f-461a-cd05-2da8c590741d"
      },
      "source": [
        "k = [1 2 3 4 3 2 1]\n",
        "j = k\n",
        "h = k' * j\n",
        "\n",
        "axis([1 7 1 7])\n",
        "contour(h)"
      ],
      "id": "alert-static",
      "execution_count": null,
      "outputs": [
        {
          "output_type": "stream",
          "text": [
            "k =\n",
            "\n",
            "   1   2   3   4   3   2   1\n",
            "\n",
            "j =\n",
            "\n",
            "   1   2   3   4   3   2   1\n",
            "\n",
            "h =\n",
            "\n",
            "    1    2    3    4    3    2    1\n",
            "    2    4    6    8    6    4    2\n",
            "    3    6    9   12    9    6    3\n",
            "    4    8   12   16   12    8    4\n",
            "    3    6    9   12    9    6    3\n",
            "    2    4    6    8    6    4    2\n",
            "    1    2    3    4    3    2    1\n",
            "\n"
          ],
          "name": "stdout"
        },
        {
          "output_type": "display_data",
          "data": {
            "image/png": "[encoded data removed]",
            "text/plain": [
              "<IPython.core.display.Image object>"
            ]
          },
          "metadata": {
            "tags": []
          }
        }
      ]
    },
    {
      "cell_type": "markdown",
      "metadata": {
        "id": "terminal-leadership"
      },
      "source": [
        "# 5. Polar plot\n",
        "\n",
        "- plots data in polar coordinates system.\n",
        "- Can be used when plotting circles or spiral diagrams\n",
        "- Syntax: polar(theta, rho)"
      ],
      "id": "terminal-leadership"
    },
    {
      "cell_type": "markdown",
      "metadata": {
        "id": "intended-declaration"
      },
      "source": [
        ""
      ],
      "id": "intended-declaration"
    },
    {
      "cell_type": "code",
      "metadata": {
        "id": "bright-disabled",
        "outputId": "aba0ca67-4e3d-4119-d787-334aefaa5875"
      },
      "source": [
        "l = 0:0.1:2*pi\n",
        "g = linspace(0.1,0.1,63)\n",
        "polar(l,g)"
      ],
      "id": "bright-disabled",
      "execution_count": null,
      "outputs": [
        {
          "output_type": "stream",
          "text": [
            "l =\n",
            "\n",
            " Columns 1 through 8:\n",
            "\n",
            "         0    0.1000    0.2000    0.3000    0.4000    0.5000    0.6000    0.7000\n",
            "\n",
            " Columns 9 through 16:\n",
            "\n",
            "    0.8000    0.9000    1.0000    1.1000    1.2000    1.3000    1.4000    1.5000\n",
            "\n",
            " Columns 17 through 24:\n",
            "\n",
            "    1.6000    1.7000    1.8000    1.9000    2.0000    2.1000    2.2000    2.3000\n",
            "\n",
            " Columns 25 through 32:\n",
            "\n",
            "    2.4000    2.5000    2.6000    2.7000    2.8000    2.9000    3.0000    3.1000\n",
            "\n",
            " Columns 33 through 40:\n",
            "\n",
            "    3.2000    3.3000    3.4000    3.5000    3.6000    3.7000    3.8000    3.9000\n",
            "\n",
            " Columns 41 through 48:\n",
            "\n",
            "    4.0000    4.1000    4.2000    4.3000    4.4000    4.5000    4.6000    4.7000\n",
            "\n",
            " Columns 49 through 56:\n",
            "\n",
            "    4.8000    4.9000    5.0000    5.1000    5.2000    5.3000    5.4000    5.5000\n",
            "\n",
            " Columns 57 through 63:\n",
            "\n",
            "    5.6000    5.7000    5.8000    5.9000    6.0000    6.1000    6.2000\n",
            "\n",
            "g =\n",
            "\n",
            " Columns 1 through 8:\n",
            "\n",
            "   0.1000   0.1000   0.1000   0.1000   0.1000   0.1000   0.1000   0.1000\n",
            "\n",
            " Columns 9 through 16:\n",
            "\n",
            "   0.1000   0.1000   0.1000   0.1000   0.1000   0.1000   0.1000   0.1000\n",
            "\n",
            " Columns 17 through 24:\n",
            "\n",
            "   0.1000   0.1000   0.1000   0.1000   0.1000   0.1000   0.1000   0.1000\n",
            "\n",
            " Columns 25 through 32:\n",
            "\n",
            "   0.1000   0.1000   0.1000   0.1000   0.1000   0.1000   0.1000   0.1000\n",
            "\n",
            " Columns 33 through 40:\n",
            "\n",
            "   0.1000   0.1000   0.1000   0.1000   0.1000   0.1000   0.1000   0.1000\n",
            "\n",
            " Columns 41 through 48:\n",
            "\n",
            "   0.1000   0.1000   0.1000   0.1000   0.1000   0.1000   0.1000   0.1000\n",
            "\n",
            " Columns 49 through 56:\n",
            "\n",
            "   0.1000   0.1000   0.1000   0.1000   0.1000   0.1000   0.1000   0.1000\n",
            "\n",
            " Columns 57 through 63:\n",
            "\n",
            "   0.1000   0.1000   0.1000   0.1000   0.1000   0.1000   0.1000\n",
            "\n"
          ],
          "name": "stdout"
        },
        {
          "output_type": "display_data",
          "data": {
            "image/png": "[encoded data removed]",
            "text/plain": [
              "<IPython.core.display.Image object>"
            ]
          },
          "metadata": {
            "tags": []
          }
        }
      ]
    },
    {
      "cell_type": "markdown",
      "metadata": {
        "id": "seeing-internet"
      },
      "source": [
        "# 6.  Pie Charts.\n",
        "\n",
        "- creates pie charts with a single vector where each slice is a percentage of the vector sum\n",
        "- Syntax: pie(x)\n",
        "- Example of modifications: Explode pie -> pie(x, [which index to explode using 1 and 0])"
      ],
      "id": "seeing-internet"
    },
    {
      "cell_type": "code",
      "metadata": {
        "id": "realistic-forum",
        "outputId": "6b2ae56a-58c4-47a3-a7b8-901fcd3edda6"
      },
      "source": [
        "z = 1:10\n",
        "\n",
        "pie(z, [1,0,1,0,0,0,1,0,0,1])"
      ],
      "id": "realistic-forum",
      "execution_count": null,
      "outputs": [
        {
          "output_type": "stream",
          "text": [
            "z =\r\n",
            "\r\n",
            "    1    2    3    4    5    6    7    8    9   10\r\n",
            "\r\n"
          ],
          "name": "stdout"
        },
        {
          "output_type": "display_data",
          "data": {
            "image/png": "[encoded data removed]",
            "text/plain": [
              "<IPython.core.display.Image object>"
            ]
          },
          "metadata": {
            "tags": []
          }
        }
      ]
    },
    {
      "cell_type": "markdown",
      "metadata": {
        "id": "expressed-drink"
      },
      "source": [
        "# 7. 3D Mesh\n",
        "\n",
        "- Used when draw graphs in 3D space\n",
        "\n",
        "- Different types of mesh plots - \n",
        "\n",
        "mesh(x,y,z) - wireframe mesh\n",
        "\n",
        "meshc(x,y,z) - wireframe mesh with contour plot at the bottom\n",
        "\n",
        "meshz(x,y,z) - wireframe mesh with z curtain\n",
        "\n",
        "surf(x,y,z) shaded wireframe mesh.\n"
      ],
      "id": "expressed-drink"
    },
    {
      "cell_type": "code",
      "metadata": {
        "id": "sharing-certificate",
        "outputId": "e2fd1d70-b908-42a0-d6d0-5afd320b6400"
      },
      "source": [
        "c = -20:15\n",
        "d = c\n",
        "[c,d] = meshgrid(c,d)\n",
        "e = c.^2 + d.^2"
      ],
      "id": "sharing-certificate",
      "execution_count": null,
      "outputs": [
        {
          "output_type": "stream",
          "text": [
            "c =\n",
            "\n",
            " Columns 1 through 16:\n",
            "\n",
            "  -20  -19  -18  -17  -16  -15  -14  -13  -12  -11  -10   -9   -8   -7   -6   -5\n",
            "\n",
            " Columns 17 through 32:\n",
            "\n",
            "   -4   -3   -2   -1    0    1    2    3    4    5    6    7    8    9   10   11\n",
            "\n",
            " Columns 33 through 36:\n",
            "\n",
            "   12   13   14   15\n",
            "\n",
            "d =\n",
            "\n",
            " Columns 1 through 16:\n",
            "\n",
            "  -20  -19  -18  -17  -16  -15  -14  -13  -12  -11  -10   -9   -8   -7   -6   -5\n",
            "\n",
            " Columns 17 through 32:\n",
            "\n",
            "   -4   -3   -2   -1    0    1    2    3    4    5    6    7    8    9   10   11\n",
            "\n",
            " Columns 33 through 36:\n",
            "\n",
            "   12   13   14   15\n",
            "\n",
            "c =\n",
            "\n",
            " Columns 1 through 16:\n",
            "\n",
            "  -20  -19  -18  -17  -16  -15  -14  -13  -12  -11  -10   -9   -8   -7   -6   -5\n",
            "  -20  -19  -18  -17  -16  -15  -14  -13  -12  -11  -10   -9   -8   -7   -6   -5\n",
            "  -20  -19  -18  -17  -16  -15  -14  -13  -12  -11  -10   -9   -8   -7   -6   -5\n",
            "  -20  -19  -18  -17  -16  -15  -14  -13  -12  -11  -10   -9   -8   -7   -6   -5\n",
            "  -20  -19  -18  -17  -16  -15  -14  -13  -12  -11  -10   -9   -8   -7   -6   -5\n",
            "  -20  -19  -18  -17  -16  -15  -14  -13  -12  -11  -10   -9   -8   -7   -6   -5\n",
            "  -20  -19  -18  -17  -16  -15  -14  -13  -12  -11  -10   -9   -8   -7   -6   -5\n",
            "  -20  -19  -18  -17  -16  -15  -14  -13  -12  -11  -10   -9   -8   -7   -6   -5\n",
            "  -20  -19  -18  -17  -16  -15  -14  -13  -12  -11  -10   -9   -8   -7   -6   -5\n",
            "  -20  -19  -18  -17  -16  -15  -14  -13  -12  -11  -10   -9   -8   -7   -6   -5\n",
            "  -20  -19  -18  -17  -16  -15  -14  -13  -12  -11  -10   -9   -8   -7   -6   -5\n",
            "  -20  -19  -18  -17  -16  -15  -14  -13  -12  -11  -10   -9   -8   -7   -6   -5\n",
            "  -20  -19  -18  -17  -16  -15  -14  -13  -12  -11  -10   -9   -8   -7   -6   -5\n",
            "  -20  -19  -18  -17  -16  -15  -14  -13  -12  -11  -10   -9   -8   -7   -6   -5\n",
            "  -20  -19  -18  -17  -16  -15  -14  -13  -12  -11  -10   -9   -8   -7   -6   -5\n",
            "  -20  -19  -18  -17  -16  -15  -14  -13  -12  -11  -10   -9   -8   -7   -6   -5\n",
            "  -20  -19  -18  -17  -16  -15  -14  -13  -12  -11  -10   -9   -8   -7   -6   -5\n",
            "  -20  -19  -18  -17  -16  -15  -14  -13  -12  -11  -10   -9   -8   -7   -6   -5\n",
            "  -20  -19  -18  -17  -16  -15  -14  -13  -12  -11  -10   -9   -8   -7   -6   -5\n",
            "  -20  -19  -18  -17  -16  -15  -14  -13  -12  -11  -10   -9   -8   -7   -6   -5\n",
            "  -20  -19  -18  -17  -16  -15  -14  -13  -12  -11  -10   -9   -8   -7   -6   -5\n",
            "  -20  -19  -18  -17  -16  -15  -14  -13  -12  -11  -10   -9   -8   -7   -6   -5\n",
            "  -20  -19  -18  -17  -16  -15  -14  -13  -12  -11  -10   -9   -8   -7   -6   -5\n",
            "  -20  -19  -18  -17  -16  -15  -14  -13  -12  -11  -10   -9   -8   -7   -6   -5\n",
            "  -20  -19  -18  -17  -16  -15  -14  -13  -12  -11  -10   -9   -8   -7   -6   -5\n",
            "  -20  -19  -18  -17  -16  -15  -14  -13  -12  -11  -10   -9   -8   -7   -6   -5\n",
            "  -20  -19  -18  -17  -16  -15  -14  -13  -12  -11  -10   -9   -8   -7   -6   -5\n",
            "  -20  -19  -18  -17  -16  -15  -14  -13  -12  -11  -10   -9   -8   -7   -6   -5\n",
            "  -20  -19  -18  -17  -16  -15  -14  -13  -12  -11  -10   -9   -8   -7   -6   -5\n",
            "  -20  -19  -18  -17  -16  -15  -14  -13  -12  -11  -10   -9   -8   -7   -6   -5\n",
            "  -20  -19  -18  -17  -16  -15  -14  -13  -12  -11  -10   -9   -8   -7   -6   -5\n",
            "  -20  -19  -18  -17  -16  -15  -14  -13  -12  -11  -10   -9   -8   -7   -6   -5\n",
            "  -20  -19  -18  -17  -16  -15  -14  -13  -12  -11  -10   -9   -8   -7   -6   -5\n",
            "  -20  -19  -18  -17  -16  -15  -14  -13  -12  -11  -10   -9   -8   -7   -6   -5\n",
            "  -20  -19  -18  -17  -16  -15  -14  -13  -12  -11  -10   -9   -8   -7   -6   -5\n",
            "  -20  -19  -18  -17  -16  -15  -14  -13  -12  -11  -10   -9   -8   -7   -6   -5\n",
            "\n",
            " Columns 17 through 32:\n",
            "\n",
            "   -4   -3   -2   -1    0    1    2    3    4    5    6    7    8    9   10   11\n",
            "   -4   -3   -2   -1    0    1    2    3    4    5    6    7    8    9   10   11\n",
            "   -4   -3   -2   -1    0    1    2    3    4    5    6    7    8    9   10   11\n",
            "   -4   -3   -2   -1    0    1    2    3    4    5    6    7    8    9   10   11\n",
            "   -4   -3   -2   -1    0    1    2    3    4    5    6    7    8    9   10   11\n",
            "   -4   -3   -2   -1    0    1    2    3    4    5    6    7    8    9   10   11\n",
            "   -4   -3   -2   -1    0    1    2    3    4    5    6    7    8    9   10   11\n",
            "   -4   -3   -2   -1    0    1    2    3    4    5    6    7    8    9   10   11\n",
            "   -4   -3   -2   -1    0    1    2    3    4    5    6    7    8    9   10   11\n",
            "   -4   -3   -2   -1    0    1    2    3    4    5    6    7    8    9   10   11\n",
            "   -4   -3   -2   -1    0    1    2    3    4    5    6    7    8    9   10   11\n",
            "   -4   -3   -2   -1    0    1    2    3    4    5    6    7    8    9   10   11\n",
            "   -4   -3   -2   -1    0    1    2    3    4    5    6    7    8    9   10   11\n",
            "   -4   -3   -2   -1    0    1    2    3    4    5    6    7    8    9   10   11\n",
            "   -4   -3   -2   -1    0    1    2    3    4    5    6    7    8    9   10   11\n",
            "   -4   -3   -2   -1    0    1    2    3    4    5    6    7    8    9   10   11\n",
            "   -4   -3   -2   -1    0    1    2    3    4    5    6    7    8    9   10   11\n",
            "   -4   -3   -2   -1    0    1    2    3    4    5    6    7    8    9   10   11\n",
            "   -4   -3   -2   -1    0    1    2    3    4    5    6    7    8    9   10   11\n",
            "   -4   -3   -2   -1    0    1    2    3    4    5    6    7    8    9   10   11\n",
            "   -4   -3   -2   -1    0    1    2    3    4    5    6    7    8    9   10   11\n",
            "   -4   -3   -2   -1    0    1    2    3    4    5    6    7    8    9   10   11\n",
            "   -4   -3   -2   -1    0    1    2    3    4    5    6    7    8    9   10   11\n",
            "   -4   -3   -2   -1    0    1    2    3    4    5    6    7    8    9   10   11\n",
            "   -4   -3   -2   -1    0    1    2    3    4    5    6    7    8    9   10   11\n",
            "   -4   -3   -2   -1    0    1    2    3    4    5    6    7    8    9   10   11\n",
            "   -4   -3   -2   -1    0    1    2    3    4    5    6    7    8    9   10   11\n",
            "   -4   -3   -2   -1    0    1    2    3    4    5    6    7    8    9   10   11\n",
            "   -4   -3   -2   -1    0    1    2    3    4    5    6    7    8    9   10   11\n",
            "   -4   -3   -2   -1    0    1    2    3    4    5    6    7    8    9   10   11\n",
            "   -4   -3   -2   -1    0    1    2    3    4    5    6    7    8    9   10   11\n",
            "   -4   -3   -2   -1    0    1    2    3    4    5    6    7    8    9   10   11\n",
            "   -4   -3   -2   -1    0    1    2    3    4    5    6    7    8    9   10   11\n",
            "   -4   -3   -2   -1    0    1    2    3    4    5    6    7    8    9   10   11\n",
            "   -4   -3   -2   -1    0    1    2    3    4    5    6    7    8    9   10   11\n",
            "   -4   -3   -2   -1    0    1    2    3    4    5    6    7    8    9   10   11\n",
            "\n",
            " Columns 33 through 36:\n",
            "\n",
            "   12   13   14   15\n",
            "   12   13   14   15\n",
            "   12   13   14   15\n",
            "   12   13   14   15\n",
            "   12   13   14   15\n",
            "   12   13   14   15\n",
            "   12   13   14   15\n",
            "   12   13   14   15\n",
            "   12   13   14   15\n",
            "   12   13   14   15\n",
            "   12   13   14   15\n",
            "   12   13   14   15\n",
            "   12   13   14   15\n",
            "   12   13   14   15\n",
            "   12   13   14   15\n",
            "   12   13   14   15\n",
            "   12   13   14   15\n",
            "   12   13   14   15\n",
            "   12   13   14   15\n",
            "   12   13   14   15\n",
            "   12   13   14   15\n",
            "   12   13   14   15\n",
            "   12   13   14   15\n",
            "   12   13   14   15\n",
            "   12   13   14   15\n",
            "   12   13   14   15\n",
            "   12   13   14   15\n",
            "   12   13   14   15\n",
            "   12   13   14   15\n",
            "   12   13   14   15\n",
            "   12   13   14   15\n",
            "   12   13   14   15\n",
            "   12   13   14   15\n",
            "   12   13   14   15\n",
            "   12   13   14   15\n",
            "   12   13   14   15\n",
            "\n",
            "d =\n",
            "\n",
            " Columns 1 through 16:\n",
            "\n",
            "  -20  -20  -20  -20  -20  -20  -20  -20  -20  -20  -20  -20  -20  -20  -20  -20\n",
            "  -19  -19  -19  -19  -19  -19  -19  -19  -19  -19  -19  -19  -19  -19  -19  -19\n",
            "  -18  -18  -18  -18  -18  -18  -18  -18  -18  -18  -18  -18  -18  -18  -18  -18\n",
            "  -17  -17  -17  -17  -17  -17  -17  -17  -17  -17  -17  -17  -17  -17  -17  -17\n",
            "  -16  -16  -16  -16  -16  -16  -16  -16  -16  -16  -16  -16  -16  -16  -16  -16\n",
            "  -15  -15  -15  -15  -15  -15  -15  -15  -15  -15  -15  -15  -15  -15  -15  -15\n",
            "  -14  -14  -14  -14  -14  -14  -14  -14  -14  -14  -14  -14  -14  -14  -14  -14\n",
            "  -13  -13  -13  -13  -13  -13  -13  -13  -13  -13  -13  -13  -13  -13  -13  -13\n",
            "  -12  -12  -12  -12  -12  -12  -12  -12  -12  -12  -12  -12  -12  -12  -12  -12\n",
            "  -11  -11  -11  -11  -11  -11  -11  -11  -11  -11  -11  -11  -11  -11  -11  -11\n",
            "  -10  -10  -10  -10  -10  -10  -10  -10  -10  -10  -10  -10  -10  -10  -10  -10\n",
            "   -9   -9   -9   -9   -9   -9   -9   -9   -9   -9   -9   -9   -9   -9   -9   -9\n",
            "   -8   -8   -8   -8   -8   -8   -8   -8   -8   -8   -8   -8   -8   -8   -8   -8\n",
            "   -7   -7   -7   -7   -7   -7   -7   -7   -7   -7   -7   -7   -7   -7   -7   -7\n",
            "   -6   -6   -6   -6   -6   -6   -6   -6   -6   -6   -6   -6   -6   -6   -6   -6\n",
            "   -5   -5   -5   -5   -5   -5   -5   -5   -5   -5   -5   -5   -5   -5   -5   -5\n",
            "   -4   -4   -4   -4   -4   -4   -4   -4   -4   -4   -4   -4   -4   -4   -4   -4\n",
            "   -3   -3   -3   -3   -3   -3   -3   -3   -3   -3   -3   -3   -3   -3   -3   -3\n",
            "   -2   -2   -2   -2   -2   -2   -2   -2   -2   -2   -2   -2   -2   -2   -2   -2\n",
            "   -1   -1   -1   -1   -1   -1   -1   -1   -1   -1   -1   -1   -1   -1   -1   -1\n",
            "    0    0    0    0    0    0    0    0    0    0    0    0    0    0    0    0\n",
            "    1    1    1    1    1    1    1    1    1    1    1    1    1    1    1    1\n",
            "    2    2    2    2    2    2    2    2    2    2    2    2    2    2    2    2\n",
            "    3    3    3    3    3    3    3    3    3    3    3    3    3    3    3    3\n",
            "    4    4    4    4    4    4    4    4    4    4    4    4    4    4    4    4\n",
            "    5    5    5    5    5    5    5    5    5    5    5    5    5    5    5    5\n",
            "    6    6    6    6    6    6    6    6    6    6    6    6    6    6    6    6\n",
            "    7    7    7    7    7    7    7    7    7    7    7    7    7    7    7    7\n",
            "    8    8    8    8    8    8    8    8    8    8    8    8    8    8    8    8\n",
            "    9    9    9    9    9    9    9    9    9    9    9    9    9    9    9    9\n",
            "   10   10   10   10   10   10   10   10   10   10   10   10   10   10   10   10\n",
            "   11   11   11   11   11   11   11   11   11   11   11   11   11   11   11   11\n",
            "   12   12   12   12   12   12   12   12   12   12   12   12   12   12   12   12\n",
            "   13   13   13   13   13   13   13   13   13   13   13   13   13   13   13   13\n",
            "   14   14   14   14   14   14   14   14   14   14   14   14   14   14   14   14\n",
            "   15   15   15   15   15   15   15   15   15   15   15   15   15   15   15   15\n",
            "\n",
            " Columns 17 through 32:\n",
            "\n",
            "  -20  -20  -20  -20  -20  -20  -20  -20  -20  -20  -20  -20  -20  -20  -20  -20\n",
            "  -19  -19  -19  -19  -19  -19  -19  -19  -19  -19  -19  -19  -19  -19  -19  -19\n",
            "  -18  -18  -18  -18  -18  -18  -18  -18  -18  -18  -18  -18  -18  -18  -18  -18\n",
            "  -17  -17  -17  -17  -17  -17  -17  -17  -17  -17  -17  -17  -17  -17  -17  -17\n",
            "  -16  -16  -16  -16  -16  -16  -16  -16  -16  -16  -16  -16  -16  -16  -16  -16\n",
            "  -15  -15  -15  -15  -15  -15  -15  -15  -15  -15  -15  -15  -15  -15  -15  -15\n",
            "  -14  -14  -14  -14  -14  -14  -14  -14  -14  -14  -14  -14  -14  -14  -14  -14\n",
            "  -13  -13  -13  -13  -13  -13  -13  -13  -13  -13  -13  -13  -13  -13  -13  -13\n",
            "  -12  -12  -12  -12  -12  -12  -12  -12  -12  -12  -12  -12  -12  -12  -12  -12\n",
            "  -11  -11  -11  -11  -11  -11  -11  -11  -11  -11  -11  -11  -11  -11  -11  -11\n",
            "  -10  -10  -10  -10  -10  -10  -10  -10  -10  -10  -10  -10  -10  -10  -10  -10\n",
            "   -9   -9   -9   -9   -9   -9   -9   -9   -9   -9   -9   -9   -9   -9   -9   -9\n",
            "   -8   -8   -8   -8   -8   -8   -8   -8   -8   -8   -8   -8   -8   -8   -8   -8\n",
            "   -7   -7   -7   -7   -7   -7   -7   -7   -7   -7   -7   -7   -7   -7   -7   -7\n",
            "   -6   -6   -6   -6   -6   -6   -6   -6   -6   -6   -6   -6   -6   -6   -6   -6\n",
            "   -5   -5   -5   -5   -5   -5   -5   -5   -5   -5   -5   -5   -5   -5   -5   -5\n",
            "   -4   -4   -4   -4   -4   -4   -4   -4   -4   -4   -4   -4   -4   -4   -4   -4\n",
            "   -3   -3   -3   -3   -3   -3   -3   -3   -3   -3   -3   -3   -3   -3   -3   -3\n",
            "   -2   -2   -2   -2   -2   -2   -2   -2   -2   -2   -2   -2   -2   -2   -2   -2\n",
            "   -1   -1   -1   -1   -1   -1   -1   -1   -1   -1   -1   -1   -1   -1   -1   -1\n",
            "    0    0    0    0    0    0    0    0    0    0    0    0    0    0    0    0\n",
            "    1    1    1    1    1    1    1    1    1    1    1    1    1    1    1    1\n",
            "    2    2    2    2    2    2    2    2    2    2    2    2    2    2    2    2\n",
            "    3    3    3    3    3    3    3    3    3    3    3    3    3    3    3    3\n",
            "    4    4    4    4    4    4    4    4    4    4    4    4    4    4    4    4\n",
            "    5    5    5    5    5    5    5    5    5    5    5    5    5    5    5    5\n",
            "    6    6    6    6    6    6    6    6    6    6    6    6    6    6    6    6\n",
            "    7    7    7    7    7    7    7    7    7    7    7    7    7    7    7    7\n",
            "    8    8    8    8    8    8    8    8    8    8    8    8    8    8    8    8\n",
            "    9    9    9    9    9    9    9    9    9    9    9    9    9    9    9    9\n",
            "   10   10   10   10   10   10   10   10   10   10   10   10   10   10   10   10\n",
            "   11   11   11   11   11   11   11   11   11   11   11   11   11   11   11   11\n",
            "   12   12   12   12   12   12   12   12   12   12   12   12   12   12   12   12\n",
            "   13   13   13   13   13   13   13   13   13   13   13   13   13   13   13   13\n",
            "   14   14   14   14   14   14   14   14   14   14   14   14   14   14   14   14\n",
            "   15   15   15   15   15   15   15   15   15   15   15   15   15   15   15   15\n",
            "\n",
            " Columns 33 through 36:\n",
            "\n",
            "  -20  -20  -20  -20\n",
            "  -19  -19  -19  -19\n",
            "  -18  -18  -18  -18\n",
            "  -17  -17  -17  -17\n",
            "  -16  -16  -16  -16\n",
            "  -15  -15  -15  -15\n",
            "  -14  -14  -14  -14\n",
            "  -13  -13  -13  -13\n",
            "  -12  -12  -12  -12\n",
            "  -11  -11  -11  -11\n",
            "  -10  -10  -10  -10\n",
            "   -9   -9   -9   -9\n",
            "   -8   -8   -8   -8\n",
            "   -7   -7   -7   -7\n",
            "   -6   -6   -6   -6\n",
            "   -5   -5   -5   -5\n",
            "   -4   -4   -4   -4\n",
            "   -3   -3   -3   -3\n",
            "   -2   -2   -2   -2\n",
            "   -1   -1   -1   -1\n",
            "    0    0    0    0\n",
            "    1    1    1    1\n",
            "    2    2    2    2\n",
            "    3    3    3    3\n",
            "    4    4    4    4\n",
            "    5    5    5    5\n",
            "    6    6    6    6\n",
            "    7    7    7    7\n",
            "    8    8    8    8\n",
            "    9    9    9    9\n",
            "   10   10   10   10\n",
            "   11   11   11   11\n",
            "   12   12   12   12\n",
            "   13   13   13   13\n",
            "   14   14   14   14\n",
            "   15   15   15   15\n",
            "\n",
            "e =\r\n",
            "\r\n",
            " Columns 1 through 13:\r\n",
            "\r\n",
            "   800   761   724   689   656   625   596   569   544   521   500   481   464\r\n",
            "   761   722   685   650   617   586   557   530   505   482   461   442   425\r\n",
            "   724   685   648   613   580   549   520   493   468   445   424   405   388\r\n",
            "   689   650   613   578   545   514   485   458   433   410   389   370   353\r\n",
            "   656   617   580   545   512   481   452   425   400   377   356   337   320\r\n",
            "   625   586   549   514   481   450   421   394   369   346   325   306   289\r\n",
            "   596   557   520   485   452   421   392   365   340   317   296   277   260\r\n",
            "   569   530   493   458   425   394   365   338   313   290   269   250   233\r\n",
            "   544   505   468   433   400   369   340   313   288   265   244   225   208\r\n",
            "   521   482   445   410   377   346   317   290   265   242   221   202   185\r\n",
            "   500   461   424   389   356   325   296   269   244   221   200   181   164\r\n",
            "   481   442   405   370   337   306   277   250   225   202   181   162   145\r\n",
            "   464   425   388   353   320   289   260   233   208   185   164   145   128\r\n",
            "   449   410   373   338   305   274   245   218   193   170   149   130   113\r\n",
            "   436   397   360   325   292   261   232   205   180   157   136   117   100\r\n",
            "   425   386   349   314   281   250   221   194   169   146   125   106    89\r\n",
            "   416   377   340   305   272   241   212   185   160   137   116    97    80\r\n",
            "   409   370   333   298   265   234   205   178   153   130   109    90    73\r\n",
            "   404   365   328   293   260   229   200   173   148   125   104    85    68\r\n",
            "   401   362   325   290   257   226   197   170   145   122   101    82    65\r\n",
            "   400   361   324   289   256   225   196   169   144   121   100    81    64\r\n",
            "   401   362   325   290   257   226   197   170   145   122   101    82    65\r\n",
            "   404   365   328   293   260   229   200   173   148   125   104    85    68\r\n",
            "   409   370   333   298   265   234   205   178   153   130   109    90    73\r\n",
            "   416   377   340   305   272   241   212   185   160   137   116    97    80\r\n",
            "   425   386   349   314   281   250   221   194   169   146   125   106    89\r\n",
            "   436   397   360   325   292   261   232   205   180   157   136   117   100\r\n",
            "   449   410   373   338   305   274   245   218   193   170   149   130   113\r\n",
            "   464   425   388   353   320   289   260   233   208   185   164   145   128\r\n",
            "   481   442   405   370   337   306   277   250   225   202   181   162   145\r\n",
            "   500   461   424   389   356   325   296   269   244   221   200   181   164\r\n",
            "   521   482   445   410   377   346   317   290   265   242   221   202   185\r\n",
            "   544   505   468   433   400   369   340   313   288   265   244   225   208\r\n",
            "   569   530   493   458   425   394   365   338   313   290   269   250   233\r\n",
            "   596   557   520   485   452   421   392   365   340   317   296   277   260\r\n",
            "   625   586   549   514   481   450   421   394   369   346   325   306   289\r\n",
            "\r\n",
            " Columns 14 through 26:\r\n",
            "\r\n",
            "   449   436   425   416   409   404   401   400   401   404   409   416   425\r\n",
            "   410   397   386   377   370   365   362   361   362   365   370   377   386\r\n",
            "   373   360   349   340   333   328   325   324   325   328   333   340   349\r\n",
            "   338   325   314   305   298   293   290   289   290   293   298   305   314\r\n",
            "   305   292   281   272   265   260   257   256   257   260   265   272   281\r\n",
            "   274   261   250   241   234   229   226   225   226   229   234   241   250\r\n",
            "   245   232   221   212   205   200   197   196   197   200   205   212   221\r\n",
            "   218   205   194   185   178   173   170   169   170   173   178   185   194\r\n",
            "   193   180   169   160   153   148   145   144   145   148   153   160   169\r\n",
            "   170   157   146   137   130   125   122   121   122   125   130   137   146\r\n",
            "   149   136   125   116   109   104   101   100   101   104   109   116   125\r\n",
            "   130   117   106    97    90    85    82    81    82    85    90    97   106\r\n",
            "   113   100    89    80    73    68    65    64    65    68    73    80    89\r\n",
            "    98    85    74    65    58    53    50    49    50    53    58    65    74\r\n",
            "    85    72    61    52    45    40    37    36    37    40    45    52    61\r\n",
            "    74    61    50    41    34    29    26    25    26    29    34    41    50\r\n",
            "    65    52    41    32    25    20    17    16    17    20    25    32    41\r\n",
            "    58    45    34    25    18    13    10     9    10    13    18    25    34\r\n",
            "    53    40    29    20    13     8     5     4     5     8    13    20    29\r\n",
            "    50    37    26    17    10     5     2     1     2     5    10    17    26\r\n",
            "    49    36    25    16     9     4     1     0     1     4     9    16    25\r\n",
            "    50    37    26    17    10     5     2     1     2     5    10    17    26\r\n",
            "    53    40    29    20    13     8     5     4     5     8    13    20    29\r\n",
            "    58    45    34    25    18    13    10     9    10    13    18    25    34\r\n",
            "    65    52    41    32    25    20    17    16    17    20    25    32    41\r\n",
            "    74    61    50    41    34    29    26    25    26    29    34    41    50\r\n",
            "    85    72    61    52    45    40    37    36    37    40    45    52    61\r\n",
            "    98    85    74    65    58    53    50    49    50    53    58    65    74\r\n",
            "   113   100    89    80    73    68    65    64    65    68    73    80    89\r\n",
            "   130   117   106    97    90    85    82    81    82    85    90    97   106\r\n",
            "   149   136   125   116   109   104   101   100   101   104   109   116   125\r\n",
            "   170   157   146   137   130   125   122   121   122   125   130   137   146\r\n",
            "   193   180   169   160   153   148   145   144   145   148   153   160   169\r\n",
            "   218   205   194   185   178   173   170   169   170   173   178   185   194\r\n",
            "   245   232   221   212   205   200   197   196   197   200   205   212   221\r\n",
            "   274   261   250   241   234   229   226   225   226   229   234   241   250\r\n",
            "\r\n",
            " Columns 27 through 36:\r\n",
            "\r\n",
            "   436   449   464   481   500   521   544   569   596   625\r\n",
            "   397   410   425   442   461   482   505   530   557   586\r\n",
            "   360   373   388   405   424   445   468   493   520   549\r\n",
            "   325   338   353   370   389   410   433   458   485   514\r\n",
            "   292   305   320   337   356   377   400   425   452   481\r\n",
            "   261   274   289   306   325   346   369   394   421   450\r\n",
            "   232   245   260   277   296   317   340   365   392   421\r\n",
            "   205   218   233   250   269   290   313   338   365   394\r\n",
            "   180   193   208   225   244   265   288   313   340   369\r\n",
            "   157   170   185   202   221   242   265   290   317   346\r\n",
            "   136   149   164   181   200   221   244   269   296   325\r\n",
            "   117   130   145   162   181   202   225   250   277   306\r\n",
            "   100   113   128   145   164   185   208   233   260   289\r\n",
            "    85    98   113   130   149   170   193   218   245   274\r\n",
            "    72    85   100   117   136   157   180   205   232   261\r\n",
            "    61    74    89   106   125   146   169   194   221   250\r\n",
            "    52    65    80    97   116   137   160   185   212   241\r\n",
            "    45    58    73    90   109   130   153   178   205   234\r\n",
            "    40    53    68    85   104   125   148   173   200   229\r\n",
            "    37    50    65    82   101   122   145   170   197   226\r\n",
            "    36    49    64    81   100   121   144   169   196   225\r\n",
            "    37    50    65    82   101   122   145   170   197   226\r\n",
            "    40    53    68    85   104   125   148   173   200   229\r\n",
            "    45    58    73    90   109   130   153   178   205   234\r\n",
            "    52    65    80    97   116   137   160   185   212   241\r\n",
            "    61    74    89   106   125   146   169   194   221   250\r\n",
            "    72    85   100   117   136   157   180   205   232   261\r\n",
            "    85    98   113   130   149   170   193   218   245   274\r\n",
            "   100   113   128   145   164   185   208   233   260   289\r\n",
            "   117   130   145   162   181   202   225   250   277   306\r\n",
            "   136   149   164   181   200   221   244   269   296   325\r\n",
            "   157   170   185   202   221   242   265   290   317   346\r\n",
            "   180   193   208   225   244   265   288   313   340   369\r\n",
            "   205   218   233   250   269   290   313   338   365   394\r\n",
            "   232   245   260   277   296   317   340   365   392   421\r\n",
            "   261   274   289   306   325   346   369   394   421   450\r\n",
            "\r\n"
          ],
          "name": "stdout"
        }
      ]
    },
    {
      "cell_type": "code",
      "metadata": {
        "id": "collect-nothing",
        "outputId": "f28268be-76ed-4bc5-a6f5-fa11ca7d1584"
      },
      "source": [
        "# Mesh\n",
        "mesh(c,d,e)"
      ],
      "id": "collect-nothing",
      "execution_count": null,
      "outputs": [
        {
          "output_type": "display_data",
          "data": {
            "image/png": "[encoded data removed]",
            "text/plain": [
              "<IPython.core.display.Image object>"
            ]
          },
          "metadata": {
            "tags": []
          }
        }
      ]
    },
    {
      "cell_type": "code",
      "metadata": {
        "id": "comprehensive-football",
        "outputId": "4901fae9-7e7f-451e-a825-7e536d77a356"
      },
      "source": [
        "# meshc\n",
        "\n",
        "meshc(c,d,e)"
      ],
      "id": "comprehensive-football",
      "execution_count": null,
      "outputs": [
        {
          "output_type": "display_data",
          "data": {
            "image/png": "[encoded data removed]",
            "text/plain": [
              "<IPython.core.display.Image object>"
            ]
          },
          "metadata": {
            "tags": []
          }
        }
      ]
    },
    {
      "cell_type": "code",
      "metadata": {
        "id": "republican-folder",
        "outputId": "3e7af960-e4dc-4894-94fb-97e1b0f47d8e"
      },
      "source": [
        "# meshz\n",
        "\n",
        "meshz(c,d,e)"
      ],
      "id": "republican-folder",
      "execution_count": null,
      "outputs": [
        {
          "output_type": "display_data",
          "data": {
            "image/png": "[encoded data removed]",
            "text/plain": [
              "<IPython.core.display.Image object>"
            ]
          },
          "metadata": {
            "tags": []
          }
        }
      ]
    },
    {
      "cell_type": "code",
      "metadata": {
        "id": "hybrid-colleague",
        "outputId": "1424b265-41ec-45dd-897f-101a4f56050c"
      },
      "source": [
        "surf(c,d,e)"
      ],
      "id": "hybrid-colleague",
      "execution_count": null,
      "outputs": [
        {
          "output_type": "display_data",
          "data": {
            "image/png": "[encoded data removed]",
            "text/plain": [
              "<IPython.core.display.Image object>"
            ]
          },
          "metadata": {
            "tags": []
          }
        }
      ]
    },
    {
      "cell_type": "markdown",
      "metadata": {
        "id": "alien-vancouver"
      },
      "source": [
        "# Saving a graph\n",
        "\n",
        "- use print -dpng 'graph name.png'"
      ],
      "id": "alien-vancouver"
    },
    {
      "cell_type": "markdown",
      "metadata": {
        "id": "failing-validation"
      },
      "source": [
        "# Control Statements\n",
        "\n",
        "- Computer program decides whether or not to execute code block based on a condition ie True or False.\n",
        "- Octave control statements include if statements, for statements and while statements.\n",
        "- Boolean operators can be used with conditional statements. \n",
        "- Examples of comparison operators -> \n",
        "\n",
        "equal to (==)\n",
        "\n",
        "not equal to(~=)\n",
        "\n",
        "greater than(>)\n",
        "\n",
        "less than(<)\n",
        "\n",
        "greater than or equal to(>=)\n",
        "\n",
        "less than or equal to(<=)\n",
        "\n"
      ],
      "id": "failing-validation"
    },
    {
      "cell_type": "markdown",
      "metadata": {
        "id": "selected-laundry"
      },
      "source": [
        "# If Statements ( if elseif and else )\n",
        "\n",
        "- if statement Syntax\n",
        "\n",
        "\n",
        "if (expression),\n",
        "\n",
        "     block_of_code;\n",
        "\n",
        "end;\n"
      ],
      "id": "selected-laundry"
    },
    {
      "cell_type": "code",
      "metadata": {
        "id": "electrical-effects",
        "outputId": "e98be0b0-a93f-44ab-a466-f62c7ea499ed"
      },
      "source": [
        "x = 5\n",
        "\n",
        "if ( x > 10)\n",
        "    disp(\"X is greater than 10\");\n",
        "else\n",
        "    disp(\"X is less than 10\");\n",
        "endif"
      ],
      "id": "electrical-effects",
      "execution_count": null,
      "outputs": [
        {
          "output_type": "stream",
          "text": [
            "x = 5\n",
            "X is less than 10\n"
          ],
          "name": "stdout"
        }
      ]
    },
    {
      "cell_type": "code",
      "metadata": {
        "id": "royal-decrease"
      },
      "source": [
        ""
      ],
      "id": "royal-decrease",
      "execution_count": null,
      "outputs": []
    }
  ]
}